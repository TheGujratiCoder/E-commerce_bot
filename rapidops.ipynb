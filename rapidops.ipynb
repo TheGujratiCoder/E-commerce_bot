{
  "cells": [
    {
      "cell_type": "code",
      "execution_count": null,
      "metadata": {
        "id": "SU3cUwwacjww"
      },
      "outputs": [],
      "source": [
        "import os\n",
        "os.environ['GRADIENT_WORKSPACE_ID']='e7a749f4-7214-4d41-9e6c-9ebed60c381d_workspace'\n",
        "os.environ['GRADIENT_ACCESS_TOKEN']='hfSJ5tuL5DtjB82SJoL49fHYwwh6yyce'"
      ]
    },
    {
      "cell_type": "code",
      "execution_count": null,
      "metadata": {
        "colab": {
          "base_uri": "https://localhost:8080/"
        },
        "id": "YAGXee4XxPT0",
        "outputId": "d819a736-9519-4ac8-e985-ea5645178efb"
      },
      "outputs": [
        {
          "output_type": "execute_result",
          "data": {
            "text/plain": [
              "[{'inputs': '### Instruction: Product ID - 10017413, Product Name - DKNY Unisex Black & Grey Printed Medium Trolley Bag\\n',\n",
              "  'outputs': '### Response:\\n- ProductBrand: DKNY\\n- Gender: Unisex\\n- Price (INR): 11745\\n- NumImages: 7\\n- Description: Black and grey printed medium trolley bag, secured with a TSA lockOne handle on the top and one on the side, has a trolley with a retractable handle on the top and four corner mounted inline skate wheelsOne main zip compartment, zip lining, two compression straps with click clasps, one zip compartment on the flap with three zip pocketsWarranty: 5 yearsWarranty provided by Brand Owner / Manufacturer\\n- PrimaryColor:  Black'},\n",
              " {'inputs': '### Instruction: Product ID - 10016283, Product Name - EthnoVogue Women Beige & Grey Made to Measure Custom Made Kurta Set with Jacket\\n',\n",
              "  'outputs': '### Response:\\n- ProductBrand: EthnoVogue\\n- Gender: Women\\n- Price (INR): 5810\\n- NumImages: 7\\n- Description: Beige & Grey made to measure kurta with churidar and\\xa0dupattaBeige made to measure calf\\xa0length kurta, has a V-neck, three-quarter sleeves, lightly padded on bust, flared hem, concealed zip closureGrey solid made to measure churidar, drawstring closureGrey net sequined dupatta, has printed tapingWhat is Made to Measure?Customised Kurta Set according to your Bust and Length. So please refer to the Size Chart to pick your perfect size.How to measure bust?Measure under your arms and around your chest to find your bust size in inchesHow to measure Kurta length?Measure from shoulder till barefoot to find kurta length in\\n- PrimaryColor:  Beige'}]"
            ]
          },
          "metadata": {},
          "execution_count": 22
        }
      ],
      "source": [
        "import pandas as pd\n",
        "\n",
        "data=pd.read_csv(\"./myntra_products_catalog.csv\")\n",
        "\n",
        "samples=[]\n",
        "for index, row in data[:2].iterrows():\n",
        "    inputs = f\"### Instruction: Product ID - {row['ProductID']}, Product Name - {row['ProductName']}\\n\"\n",
        "    outputs = \"### Response:\"\n",
        "    for column in data.columns:\n",
        "        if column not in ['ProductID', 'ProductName']:\n",
        "            outputs += f\"\\n- {column}: {row[column]}\"\n",
        "    sample={\n",
        "        \"inputs\": inputs,\n",
        "        \"outputs\": outputs\n",
        "    }\n",
        "    samples.append(sample)\n",
        "\n",
        "samples"
      ]
    },
    {
      "cell_type": "code",
      "execution_count": null,
      "metadata": {
        "id": "0U5D6rx6deHY",
        "colab": {
          "base_uri": "https://localhost:8080/"
        },
        "outputId": "ff6f2e3d-1fc0-4cad-82ee-193148a3f47e"
      },
      "outputs": [
        {
          "output_type": "stream",
          "name": "stdout",
          "text": [
            "Created model adapter with id 68957251-83f4-4bfa-8eda-7521e059cbf4_model_adapter\n",
            "Asking: ### Product ID - 10017413, Product Name - DKNY Unisex Black & Grey Printed Medium Trolley Bag\n",
            " \n",
            "\n",
            " ### Response:\n",
            "- ProductBrand: Parx\n",
            "- Gender: Men\n",
            "- Price (INR): 752\n",
            "- NumImages: 5\n",
            "- Description: Blue checked casual shirt, has a spread collar, long sleeves, button placket,  curved hem, one patch pocket\n",
            "- PrimaryColor: Blue\n",
            "Generated(before fine tuning):  - ProductID: 10017413\n",
            "- ProductName: DKNY Unisex Black & Grey Printed Medium Trolley Bag\n",
            "- ProductBrand: DKNY\n",
            "- Gender: Unisex\n",
            "- Price (INR): 14990\n",
            "- NumImages: 5\n",
            "- Description: Black and grey printed medium trolley bag, has a top handle, adjustable shoulder strap, \n"
          ]
        }
      ],
      "source": [
        "from gradientai import Gradient\n",
        "\n",
        "gradient=Gradient()\n",
        "\n",
        "base_model=gradient.get_base_model(base_model_slug=\"nous-hermes2\")\n",
        "\n",
        "new_model_adapter=base_model.create_model_adapter(name=\"prathammodel\")\n",
        "\n",
        "print(f\"Created model adapter with id {new_model_adapter.id}\")\n",
        "\n",
        "sample_query=\"### Product ID - 10017413, Product Name - DKNY Unisex Black & Grey Printed Medium Trolley Bag\\n \\n\\n ### Response:\\n- ProductBrand: Parx\\n- Gender: Men\\n- Price (INR): 752\\n- NumImages: 5\\n- Description: Blue checked casual shirt, has a spread collar, long sleeves, button placket,  curved hem, one patch pocket\\n- PrimaryColor: Blue\"\n",
        "print(f\"Asking: {sample_query}\")\n",
        "    ## Before Finetuning\n",
        "completion=new_model_adapter.complete(query=sample_query,max_generated_token_count=100).generated_output\n",
        "print(f\"Generated(before fine tuning): {completion}\")"
      ]
    },
    {
      "cell_type": "code",
      "execution_count": null,
      "metadata": {
        "id": "uifyewQ9dmjs",
        "colab": {
          "base_uri": "https://localhost:8080/"
        },
        "outputId": "b6392a22-5031-4220-f9bd-3d4522860799"
      },
      "outputs": [
        {
          "output_type": "stream",
          "name": "stdout",
          "text": [
            "Fine tuning the model with iteration 1\n",
            "Fine tuning the model with iteration 2\n",
            "Fine tuning the model with iteration 3\n",
            "Generated(after fine tuning): - ProductID: 10017413\n",
            "- ProductName: DKNY Unisex Black & Grey Printed Medium Trolley Bag\n",
            "- ProductBrand: DKNY\n",
            "- Gender: Unisex\n",
            "- Price (INR): 2999\n",
            "- NumImages: 5\n",
            "- Description: This DKNY Black & Grey Printed Medium Trolley Bag is perfect for everyday use.\n"
          ]
        }
      ],
      "source": [
        "num_epochs=3\n",
        "count=0\n",
        "while count<num_epochs:\n",
        "  print(f\"Fine tuning the model with iteration {count + 1}\")\n",
        "  new_model_adapter.fine_tune(samples=samples)\n",
        "  count=count+1\n",
        "\n",
        "    #after fine tuning\n",
        "completion=new_model_adapter.complete(query=sample_query, max_generated_token_count=100).generated_output\n",
        "print(f\"Generated(after fine tuning): {completion}\")\n",
        "new_model_adapter.delete()\n",
        "gradient.close()"
      ]
    }
  ],
  "metadata": {
    "colab": {
      "provenance": [],
      "gpuType": "T4"
    },
    "kernelspec": {
      "display_name": "Python 3",
      "name": "python3"
    },
    "language_info": {
      "name": "python"
    },
    "accelerator": "GPU"
  },
  "nbformat": 4,
  "nbformat_minor": 0
}